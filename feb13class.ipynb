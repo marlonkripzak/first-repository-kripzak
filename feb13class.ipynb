{
 "cells": [
  {
   "cell_type": "code",
   "execution_count": 1,
   "metadata": {},
   "outputs": [],
   "source": [
    "import numpy as np"
   ]
  },
  {
   "cell_type": "code",
   "execution_count": 2,
   "metadata": {},
   "outputs": [
    {
     "data": {
      "text/plain": [
       "numpy.ndarray"
      ]
     },
     "execution_count": 2,
     "metadata": {},
     "output_type": "execute_result"
    }
   ],
   "source": [
    "my_array = np.array([1, 2, 3, 4, 5])\n",
    "type(my_array)"
   ]
  },
  {
   "cell_type": "code",
   "execution_count": 3,
   "metadata": {},
   "outputs": [],
   "source": [
    "x = np.arange(1, 5)  # from 1 inclusive to 5 exclusive"
   ]
  },
  {
   "cell_type": "code",
   "execution_count": 4,
   "metadata": {},
   "outputs": [
    {
     "data": {
      "text/plain": [
       "array([[-0.80819159, -0.46523026,  0.2777297 ,  0.40222083,  2.32485373],\n",
       "       [ 1.07053991,  0.79951567, -0.20742304,  0.22050429,  0.89980654],\n",
       "       [ 0.84797625, -0.31907134, -0.08546302, -1.19978321, -0.47535561],\n",
       "       [-2.08924122,  0.42834465,  1.03227027,  2.17277946,  0.05527258],\n",
       "       [ 1.24033842, -0.8335218 , -0.30016706, -1.76986532,  0.4756984 ],\n",
       "       [-0.58747702, -0.27471063, -0.75634332, -0.79082825,  0.06489768],\n",
       "       [-1.88889399,  1.58673478,  1.29962025, -1.45687658, -0.69542754],\n",
       "       [ 0.20638581,  1.29472767,  0.22021086,  0.67148855,  0.25347501],\n",
       "       [-0.36811001, -1.26225309, -0.65832699, -0.91499472, -0.78627285],\n",
       "       [-0.19893714, -0.33348113, -0.45291359, -1.24342176,  0.68395822]])"
      ]
     },
     "execution_count": 4,
     "metadata": {},
     "output_type": "execute_result"
    }
   ],
   "source": [
    "big_matrix = np.random.randn(10, 5)\n",
    "big_matrix"
   ]
  },
  {
   "cell_type": "code",
   "execution_count": 5,
   "metadata": {},
   "outputs": [
    {
     "data": {
      "text/plain": [
       "array([0, 1, 2, 3, 4, 5, 6, 7, 8, 9])"
      ]
     },
     "execution_count": 5,
     "metadata": {},
     "output_type": "execute_result"
    }
   ],
   "source": [
    "x = np.arange(10)\n",
    "x"
   ]
  },
  {
   "cell_type": "code",
   "execution_count": 6,
   "metadata": {},
   "outputs": [
    {
     "data": {
      "text/plain": [
       "3"
      ]
     },
     "execution_count": 6,
     "metadata": {},
     "output_type": "execute_result"
    }
   ],
   "source": [
    "x[3]"
   ]
  },
  {
   "cell_type": "code",
   "execution_count": 7,
   "metadata": {},
   "outputs": [
    {
     "data": {
      "text/plain": [
       "array([2, 3, 4, 5, 6, 7, 8, 9])"
      ]
     },
     "execution_count": 7,
     "metadata": {},
     "output_type": "execute_result"
    }
   ],
   "source": [
    "x[2:]"
   ]
  },
  {
   "cell_type": "code",
   "execution_count": 8,
   "metadata": {},
   "outputs": [
    {
     "data": {
      "text/plain": [
       "array([2, 3, 4])"
      ]
     },
     "execution_count": 8,
     "metadata": {},
     "output_type": "execute_result"
    }
   ],
   "source": [
    "x[2:5]"
   ]
  },
  {
   "cell_type": "code",
   "execution_count": 16,
   "metadata": {},
   "outputs": [
    {
     "data": {
      "text/plain": [
       "array([[5, 9, 4, 9, 9, 6],\n",
       "       [5, 6, 9, 4, 3, 1],\n",
       "       [6, 8, 1, 7, 2, 4],\n",
       "       [4, 2, 2, 2, 0, 4]])"
      ]
     },
     "execution_count": 16,
     "metadata": {},
     "output_type": "execute_result"
    }
   ],
   "source": [
    "x = np.random.randint(10, size=(4, 6))\n",
    "x"
   ]
  }
 ],
 "metadata": {
  "kernelspec": {
   "display_name": "Python 3",
   "language": "python",
   "name": "python3"
  },
  "language_info": {
   "codemirror_mode": {
    "name": "ipython",
    "version": 3
   },
   "file_extension": ".py",
   "mimetype": "text/x-python",
   "name": "python",
   "nbconvert_exporter": "python",
   "pygments_lexer": "ipython3",
   "version": "3.10.13"
  }
 },
 "nbformat": 4,
 "nbformat_minor": 2
}
