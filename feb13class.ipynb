{
 "cells": [
  {
   "cell_type": "code",
   "execution_count": 5,
   "metadata": {},
   "outputs": [],
   "source": [
    "import numpy as np"
   ]
  },
  {
   "cell_type": "code",
   "execution_count": 6,
   "metadata": {},
   "outputs": [
    {
     "data": {
      "text/plain": [
       "numpy.ndarray"
      ]
     },
     "execution_count": 6,
     "metadata": {},
     "output_type": "execute_result"
    }
   ],
   "source": [
    "my_array = np.array([1, 2, 3, 4, 5])\n",
    "type(my_array)"
   ]
  },
  {
   "cell_type": "code",
   "execution_count": 7,
   "metadata": {},
   "outputs": [],
   "source": [
    "x = np.arange(1, 5)  # from 1 inclusive to 5 exclusive"
   ]
  },
  {
   "cell_type": "code",
   "execution_count": 8,
   "metadata": {},
   "outputs": [
    {
     "data": {
      "text/plain": [
       "array([[ 0.27386563, -0.26526542, -1.48575685,  1.60837218, -2.00611251],\n",
       "       [ 0.35502978,  0.39973906, -0.09477573,  0.02923112,  2.06174234],\n",
       "       [ 2.18090915, -1.34659894,  0.02613696,  1.29672745, -0.16538796],\n",
       "       [ 0.88778784,  0.05142165, -0.74204422,  1.31936313, -1.18487167],\n",
       "       [-0.14771866,  0.16258081,  0.63967386, -0.08556355, -0.02665263],\n",
       "       [ 1.82127828, -1.58265296, -1.62428361,  0.45949585,  0.67457572],\n",
       "       [ 0.25209745,  1.61500146, -0.63779727,  0.14560139,  0.2777013 ],\n",
       "       [ 1.69087978, -1.60614864,  1.36312616, -0.24366586, -0.10102726],\n",
       "       [-0.60092639, -0.71720694, -0.03586322,  0.21525767,  0.60612216],\n",
       "       [ 0.47836584, -1.32683437,  1.14109925,  0.23245649, -0.23584675]])"
      ]
     },
     "execution_count": 8,
     "metadata": {},
     "output_type": "execute_result"
    }
   ],
   "source": [
    "big_matrix = np.random.randn(10, 5)\n",
    "big_matrix"
   ]
  }
 ],
 "metadata": {
  "kernelspec": {
   "display_name": "Python 3",
   "language": "python",
   "name": "python3"
  },
  "language_info": {
   "codemirror_mode": {
    "name": "ipython",
    "version": 3
   },
   "file_extension": ".py",
   "mimetype": "text/x-python",
   "name": "python",
   "nbconvert_exporter": "python",
   "pygments_lexer": "ipython3",
   "version": "3.10.13"
  }
 },
 "nbformat": 4,
 "nbformat_minor": 2
}
