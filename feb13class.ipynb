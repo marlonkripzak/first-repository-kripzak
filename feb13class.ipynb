{
 "cells": [
  {
   "cell_type": "code",
   "execution_count": 1,
   "metadata": {},
   "outputs": [],
   "source": [
    "import numpy as np"
   ]
  },
  {
   "cell_type": "code",
   "execution_count": 2,
   "metadata": {},
   "outputs": [
    {
     "data": {
      "text/plain": [
       "numpy.ndarray"
      ]
     },
     "execution_count": 2,
     "metadata": {},
     "output_type": "execute_result"
    }
   ],
   "source": [
    "my_array = np.array([1, 2, 3, 4, 5])\n",
    "type(my_array)"
   ]
  },
  {
   "cell_type": "code",
   "execution_count": 3,
   "metadata": {},
   "outputs": [],
   "source": [
    "x = np.arange(1, 5)  # from 1 inclusive to 5 exclusive"
   ]
  },
  {
   "cell_type": "code",
   "execution_count": 4,
   "metadata": {},
   "outputs": [
    {
     "data": {
      "text/plain": [
       "array([[ 0.27589733, -0.14049213, -1.38928698,  1.85450431, -0.09687888],\n",
       "       [-1.18043952,  0.79701945, -0.25171881,  0.76578498,  0.87372741],\n",
       "       [-0.18601414, -0.88033351,  0.56252142,  0.39714382, -0.25395206],\n",
       "       [ 0.11107399,  1.2318667 ,  1.28493676,  1.24177386,  0.25984181],\n",
       "       [-0.41533398,  0.97217483,  0.50572236,  0.73823414,  1.25197831],\n",
       "       [ 0.19443263, -0.56398264,  0.21803049, -0.49291648, -0.05585618],\n",
       "       [ 1.25253992, -1.58235525,  0.02850741,  1.15023941,  2.66081379],\n",
       "       [-0.61053141, -0.84943608,  0.38040847,  0.59869464, -0.34522831],\n",
       "       [ 0.30680873, -1.67640969, -0.26636649,  1.8883561 ,  0.25096994],\n",
       "       [ 1.23688077,  0.52470601,  0.43989419,  1.42896071, -0.26312925]])"
      ]
     },
     "execution_count": 4,
     "metadata": {},
     "output_type": "execute_result"
    }
   ],
   "source": [
    "big_matrix = np.random.randn(10, 5)\n",
    "big_matrix"
   ]
  }
 ],
 "metadata": {
  "kernelspec": {
   "display_name": "Python 3",
   "language": "python",
   "name": "python3"
  },
  "language_info": {
   "codemirror_mode": {
    "name": "ipython",
    "version": 3
   },
   "file_extension": ".py",
   "mimetype": "text/x-python",
   "name": "python",
   "nbconvert_exporter": "python",
   "pygments_lexer": "ipython3",
   "version": "3.10.13"
  }
 },
 "nbformat": 4,
 "nbformat_minor": 2
}
